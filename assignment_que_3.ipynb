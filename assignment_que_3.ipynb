{
 "cells": [
  {
   "cell_type": "code",
   "execution_count": 14,
   "id": "02862642",
   "metadata": {},
   "outputs": [
    {
     "name": "stdout",
     "output_type": "stream",
     "text": [
      "Even numbers in series : 4\n",
      "Odd numbers in series : 5\n"
     ]
    }
   ],
   "source": [
    "series = [21,22,23,24,25,26,27,28,29]\n",
    "even_count=0\n",
    "odd_count=0\n",
    "for i in series:\n",
    "    if i%2==0:\n",
    "        even_count+=1\n",
    "        \n",
    "    else:\n",
    "        odd_count+=1\n",
    "            \n",
    "print(\"Even numbers in series :\", even_count)\n",
    "print(\"Odd numbers in series :\", odd_count)"
   ]
  }
 ],
 "metadata": {
  "kernelspec": {
   "display_name": "Python 3 (ipykernel)",
   "language": "python",
   "name": "python3"
  },
  "language_info": {
   "codemirror_mode": {
    "name": "ipython",
    "version": 3
   },
   "file_extension": ".py",
   "mimetype": "text/x-python",
   "name": "python",
   "nbconvert_exporter": "python",
   "pygments_lexer": "ipython3",
   "version": "3.10.1"
  }
 },
 "nbformat": 4,
 "nbformat_minor": 5
}
